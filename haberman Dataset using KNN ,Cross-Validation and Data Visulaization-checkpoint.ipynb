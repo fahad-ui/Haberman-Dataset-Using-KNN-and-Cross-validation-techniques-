{
 "cells": [
  {
   "cell_type": "code",
   "execution_count": 90,
   "metadata": {},
   "outputs": [],
   "source": [
    "import pandas as pd\n",
    "import numpy as np\n",
    "import seaborn as sns\n",
    "import matplotlib.pyplot as plt"
   ]
  },
  {
   "cell_type": "code",
   "execution_count": 91,
   "metadata": {},
   "outputs": [
    {
     "name": "stdout",
     "output_type": "stream",
     "text": [
      "C:\\Users\\Hi\\Downloads\n"
     ]
    }
   ],
   "source": [
    "%cd C:\\Users\\Hi\\Downloads"
   ]
  },
  {
   "cell_type": "code",
   "execution_count": 92,
   "metadata": {},
   "outputs": [],
   "source": [
    "df = pd.read_csv('haberman.csv')"
   ]
  },
  {
   "cell_type": "code",
   "execution_count": 93,
   "metadata": {},
   "outputs": [
    {
     "data": {
      "text/html": [
       "<div>\n",
       "<style scoped>\n",
       "    .dataframe tbody tr th:only-of-type {\n",
       "        vertical-align: middle;\n",
       "    }\n",
       "\n",
       "    .dataframe tbody tr th {\n",
       "        vertical-align: top;\n",
       "    }\n",
       "\n",
       "    .dataframe thead th {\n",
       "        text-align: right;\n",
       "    }\n",
       "</style>\n",
       "<table border=\"1\" class=\"dataframe\">\n",
       "  <thead>\n",
       "    <tr style=\"text-align: right;\">\n",
       "      <th></th>\n",
       "      <th>30</th>\n",
       "      <th>64</th>\n",
       "      <th>1</th>\n",
       "      <th>1.1</th>\n",
       "    </tr>\n",
       "  </thead>\n",
       "  <tbody>\n",
       "    <tr>\n",
       "      <th>0</th>\n",
       "      <td>30</td>\n",
       "      <td>62</td>\n",
       "      <td>3</td>\n",
       "      <td>1</td>\n",
       "    </tr>\n",
       "    <tr>\n",
       "      <th>1</th>\n",
       "      <td>30</td>\n",
       "      <td>65</td>\n",
       "      <td>0</td>\n",
       "      <td>1</td>\n",
       "    </tr>\n",
       "    <tr>\n",
       "      <th>2</th>\n",
       "      <td>31</td>\n",
       "      <td>59</td>\n",
       "      <td>2</td>\n",
       "      <td>1</td>\n",
       "    </tr>\n",
       "    <tr>\n",
       "      <th>3</th>\n",
       "      <td>31</td>\n",
       "      <td>65</td>\n",
       "      <td>4</td>\n",
       "      <td>1</td>\n",
       "    </tr>\n",
       "    <tr>\n",
       "      <th>4</th>\n",
       "      <td>33</td>\n",
       "      <td>58</td>\n",
       "      <td>10</td>\n",
       "      <td>1</td>\n",
       "    </tr>\n",
       "  </tbody>\n",
       "</table>\n",
       "</div>"
      ],
      "text/plain": [
       "   30  64   1  1.1\n",
       "0  30  62   3    1\n",
       "1  30  65   0    1\n",
       "2  31  59   2    1\n",
       "3  31  65   4    1\n",
       "4  33  58  10    1"
      ]
     },
     "execution_count": 93,
     "metadata": {},
     "output_type": "execute_result"
    }
   ],
   "source": [
    "df.head()"
   ]
  },
  {
   "cell_type": "code",
   "execution_count": 94,
   "metadata": {},
   "outputs": [],
   "source": [
    "df.columns = ['age', 'year', 'nodes', 'status']"
   ]
  },
  {
   "cell_type": "code",
   "execution_count": 95,
   "metadata": {},
   "outputs": [
    {
     "data": {
      "text/html": [
       "<div>\n",
       "<style scoped>\n",
       "    .dataframe tbody tr th:only-of-type {\n",
       "        vertical-align: middle;\n",
       "    }\n",
       "\n",
       "    .dataframe tbody tr th {\n",
       "        vertical-align: top;\n",
       "    }\n",
       "\n",
       "    .dataframe thead th {\n",
       "        text-align: right;\n",
       "    }\n",
       "</style>\n",
       "<table border=\"1\" class=\"dataframe\">\n",
       "  <thead>\n",
       "    <tr style=\"text-align: right;\">\n",
       "      <th></th>\n",
       "      <th>age</th>\n",
       "      <th>year</th>\n",
       "      <th>nodes</th>\n",
       "      <th>status</th>\n",
       "    </tr>\n",
       "  </thead>\n",
       "  <tbody>\n",
       "    <tr>\n",
       "      <th>0</th>\n",
       "      <td>30</td>\n",
       "      <td>62</td>\n",
       "      <td>3</td>\n",
       "      <td>1</td>\n",
       "    </tr>\n",
       "    <tr>\n",
       "      <th>1</th>\n",
       "      <td>30</td>\n",
       "      <td>65</td>\n",
       "      <td>0</td>\n",
       "      <td>1</td>\n",
       "    </tr>\n",
       "    <tr>\n",
       "      <th>2</th>\n",
       "      <td>31</td>\n",
       "      <td>59</td>\n",
       "      <td>2</td>\n",
       "      <td>1</td>\n",
       "    </tr>\n",
       "    <tr>\n",
       "      <th>3</th>\n",
       "      <td>31</td>\n",
       "      <td>65</td>\n",
       "      <td>4</td>\n",
       "      <td>1</td>\n",
       "    </tr>\n",
       "    <tr>\n",
       "      <th>4</th>\n",
       "      <td>33</td>\n",
       "      <td>58</td>\n",
       "      <td>10</td>\n",
       "      <td>1</td>\n",
       "    </tr>\n",
       "  </tbody>\n",
       "</table>\n",
       "</div>"
      ],
      "text/plain": [
       "   age  year  nodes  status\n",
       "0   30    62      3       1\n",
       "1   30    65      0       1\n",
       "2   31    59      2       1\n",
       "3   31    65      4       1\n",
       "4   33    58     10       1"
      ]
     },
     "execution_count": 95,
     "metadata": {},
     "output_type": "execute_result"
    }
   ],
   "source": [
    "df.head()"
   ]
  },
  {
   "cell_type": "code",
   "execution_count": 96,
   "metadata": {},
   "outputs": [
    {
     "data": {
      "text/plain": [
       "<seaborn.axisgrid.FacetGrid at 0x2118923ec40>"
      ]
     },
     "execution_count": 96,
     "metadata": {},
     "output_type": "execute_result"
    },
    {
     "data": {
      "image/png": "[encoded data removed]",
      "text/plain": [
       "<Figure size 408.75x360 with 1 Axes>"
      ]
     },
     "metadata": {
      "needs_background": "light"
     },
     "output_type": "display_data"
    }
   ],
   "source": [
    "sns.catplot('status','age',hue='nodes',data = df)"
   ]
  },
  {
   "cell_type": "code",
   "execution_count": 97,
   "metadata": {},
   "outputs": [
    {
     "data": {
      "text/plain": [
       "<seaborn.axisgrid.FacetGrid at 0x21186d78400>"
      ]
     },
     "execution_count": 97,
     "metadata": {},
     "output_type": "execute_result"
    },
    {
     "data": {
      "image/png": "[encoded data removed]",
      "text/plain": [
       "<Figure size 360x360 with 1 Axes>"
      ]
     },
     "metadata": {
      "needs_background": "light"
     },
     "output_type": "display_data"
    }
   ],
   "source": [
    "sns.catplot('status','age',kind='box',data=df)"
   ]
  },
  {
   "cell_type": "code",
   "execution_count": 98,
   "metadata": {},
   "outputs": [
    {
     "data": {
      "text/plain": [
       "<seaborn.axisgrid.FacetGrid at 0x2118941d760>"
      ]
     },
     "execution_count": 98,
     "metadata": {},
     "output_type": "execute_result"
    },
    {
     "data": {
      "image/png": "[encoded data removed]",
      "text/plain": [
       "<Figure size 360x360 with 1 Axes>"
      ]
     },
     "metadata": {
      "needs_background": "light"
     },
     "output_type": "display_data"
    }
   ],
   "source": [
    "sns.catplot('status','age',kind='violin',data=df)"
   ]
  },
  {
   "cell_type": "code",
   "execution_count": 99,
   "metadata": {},
   "outputs": [
    {
     "data": {
      "text/plain": [
       "<seaborn.axisgrid.FacetGrid at 0x2118945cd00>"
      ]
     },
     "execution_count": 99,
     "metadata": {},
     "output_type": "execute_result"
    },
    {
     "data": {
      "image/png": "[encoded data removed]",
      "text/plain": [
       "<Figure size 360x360 with 1 Axes>"
      ]
     },
     "metadata": {
      "needs_background": "light"
     },
     "output_type": "display_data"
    }
   ],
   "source": [
    "sns.catplot(x = 'status', y = 'nodes',data=df)"
   ]
  },
  {
   "cell_type": "code",
   "execution_count": 100,
   "metadata": {},
   "outputs": [
    {
     "data": {
      "text/plain": [
       "<seaborn.axisgrid.PairGrid at 0x2118a4b4a90>"
      ]
     },
     "execution_count": 100,
     "metadata": {},
     "output_type": "execute_result"
    },
    {
     "data": {
      "image/png": "[encoded data removed]",
      "text/plain": [
       "<Figure size 720x720 with 20 Axes>"
      ]
     },
     "metadata": {
      "needs_background": "light"
     },
     "output_type": "display_data"
    }
   ],
   "source": [
    "sns.pairplot(df)"
   ]
  },
  {
   "cell_type": "code",
   "execution_count": 101,
   "metadata": {},
   "outputs": [],
   "source": [
    "df.drop([\"year\", \"nodes\"], axis=1, inplace=True)  "
   ]
  },
  {
   "cell_type": "code",
   "execution_count": 102,
   "metadata": {},
   "outputs": [
    {
     "data": {
      "text/html": [
       "<div>\n",
       "<style scoped>\n",
       "    .dataframe tbody tr th:only-of-type {\n",
       "        vertical-align: middle;\n",
       "    }\n",
       "\n",
       "    .dataframe tbody tr th {\n",
       "        vertical-align: top;\n",
       "    }\n",
       "\n",
       "    .dataframe thead th {\n",
       "        text-align: right;\n",
       "    }\n",
       "</style>\n",
       "<table border=\"1\" class=\"dataframe\">\n",
       "  <thead>\n",
       "    <tr style=\"text-align: right;\">\n",
       "      <th></th>\n",
       "      <th>age</th>\n",
       "      <th>status</th>\n",
       "    </tr>\n",
       "  </thead>\n",
       "  <tbody>\n",
       "    <tr>\n",
       "      <th>0</th>\n",
       "      <td>30</td>\n",
       "      <td>1</td>\n",
       "    </tr>\n",
       "    <tr>\n",
       "      <th>1</th>\n",
       "      <td>30</td>\n",
       "      <td>1</td>\n",
       "    </tr>\n",
       "    <tr>\n",
       "      <th>2</th>\n",
       "      <td>31</td>\n",
       "      <td>1</td>\n",
       "    </tr>\n",
       "    <tr>\n",
       "      <th>3</th>\n",
       "      <td>31</td>\n",
       "      <td>1</td>\n",
       "    </tr>\n",
       "    <tr>\n",
       "      <th>4</th>\n",
       "      <td>33</td>\n",
       "      <td>1</td>\n",
       "    </tr>\n",
       "  </tbody>\n",
       "</table>\n",
       "</div>"
      ],
      "text/plain": [
       "   age  status\n",
       "0   30       1\n",
       "1   30       1\n",
       "2   31       1\n",
       "3   31       1\n",
       "4   33       1"
      ]
     },
     "execution_count": 102,
     "metadata": {},
     "output_type": "execute_result"
    }
   ],
   "source": [
    "df.head()"
   ]
  },
  {
   "cell_type": "code",
   "execution_count": 103,
   "metadata": {},
   "outputs": [],
   "source": [
    "x = df.iloc[:,0].values.reshape(-1,1)\n",
    "y = df.iloc[:,1].values"
   ]
  },
  {
   "cell_type": "code",
   "execution_count": 104,
   "metadata": {},
   "outputs": [
    {
     "data": {
      "text/plain": [
       "array([[30],\n",
       "       [30],\n",
       "       [31],\n",
       "       [31],\n",
       "       [33],\n",
       "       [33],\n",
       "       [34],\n",
       "       [34],\n",
       "       [34],\n",
       "       [34],\n",
       "       [34],\n",
       "       [34],\n",
       "       [34],\n",
       "       [35],\n",
       "       [35],\n",
       "       [36],\n",
       "       [36],\n",
       "       [37],\n",
       "       [37],\n",
       "       [37],\n",
       "       [37],\n",
       "       [37],\n",
       "       [37],\n",
       "       [38],\n",
       "       [38],\n",
       "       [38],\n",
       "       [38],\n",
       "       [38],\n",
       "       [38],\n",
       "       [38],\n",
       "       [38],\n",
       "       [38],\n",
       "       [38],\n",
       "       [39],\n",
       "       [39],\n",
       "       [39],\n",
       "       [39],\n",
       "       [39],\n",
       "       [39],\n",
       "       [40],\n",
       "       [40],\n",
       "       [40],\n",
       "       [41],\n",
       "       [41],\n",
       "       [41],\n",
       "       [41],\n",
       "       [41],\n",
       "       [41],\n",
       "       [41],\n",
       "       [41],\n",
       "       [41],\n",
       "       [41],\n",
       "       [42],\n",
       "       [42],\n",
       "       [42],\n",
       "       [42],\n",
       "       [42],\n",
       "       [42],\n",
       "       [42],\n",
       "       [42],\n",
       "       [42],\n",
       "       [43],\n",
       "       [43],\n",
       "       [43],\n",
       "       [43],\n",
       "       [43],\n",
       "       [43],\n",
       "       [43],\n",
       "       [43],\n",
       "       [43],\n",
       "       [43],\n",
       "       [43],\n",
       "       [44],\n",
       "       [44],\n",
       "       [44],\n",
       "       [44],\n",
       "       [44],\n",
       "       [44],\n",
       "       [44],\n",
       "       [45],\n",
       "       [45],\n",
       "       [45],\n",
       "       [45],\n",
       "       [45],\n",
       "       [45],\n",
       "       [45],\n",
       "       [45],\n",
       "       [45],\n",
       "       [46],\n",
       "       [46],\n",
       "       [46],\n",
       "       [46],\n",
       "       [46],\n",
       "       [46],\n",
       "       [46],\n",
       "       [47],\n",
       "       [47],\n",
       "       [47],\n",
       "       [47],\n",
       "       [47],\n",
       "       [47],\n",
       "       [47],\n",
       "       [47],\n",
       "       [47],\n",
       "       [47],\n",
       "       [47],\n",
       "       [48],\n",
       "       [48],\n",
       "       [48],\n",
       "       [48],\n",
       "       [48],\n",
       "       [48],\n",
       "       [48],\n",
       "       [49],\n",
       "       [49],\n",
       "       [49],\n",
       "       [49],\n",
       "       [49],\n",
       "       [49],\n",
       "       [49],\n",
       "       [49],\n",
       "       [49],\n",
       "       [49],\n",
       "       [50],\n",
       "       [50],\n",
       "       [50],\n",
       "       [50],\n",
       "       [50],\n",
       "       [50],\n",
       "       [50],\n",
       "       [50],\n",
       "       [50],\n",
       "       [50],\n",
       "       [50],\n",
       "       [50],\n",
       "       [51],\n",
       "       [51],\n",
       "       [51],\n",
       "       [51],\n",
       "       [51],\n",
       "       [51],\n",
       "       [52],\n",
       "       [52],\n",
       "       [52],\n",
       "       [52],\n",
       "       [52],\n",
       "       [52],\n",
       "       [52],\n",
       "       [52],\n",
       "       [52],\n",
       "       [52],\n",
       "       [52],\n",
       "       [52],\n",
       "       [52],\n",
       "       [52],\n",
       "       [53],\n",
       "       [53],\n",
       "       [53],\n",
       "       [53],\n",
       "       [53],\n",
       "       [53],\n",
       "       [53],\n",
       "       [53],\n",
       "       [53],\n",
       "       [53],\n",
       "       [53],\n",
       "       [54],\n",
       "       [54],\n",
       "       [54],\n",
       "       [54],\n",
       "       [54],\n",
       "       [54],\n",
       "       [54],\n",
       "       [54],\n",
       "       [54],\n",
       "       [54],\n",
       "       [54],\n",
       "       [54],\n",
       "       [54],\n",
       "       [55],\n",
       "       [55],\n",
       "       [55],\n",
       "       [55],\n",
       "       [55],\n",
       "       [55],\n",
       "       [55],\n",
       "       [55],\n",
       "       [55],\n",
       "       [55],\n",
       "       [56],\n",
       "       [56],\n",
       "       [56],\n",
       "       [56],\n",
       "       [56],\n",
       "       [56],\n",
       "       [56],\n",
       "       [57],\n",
       "       [57],\n",
       "       [57],\n",
       "       [57],\n",
       "       [57],\n",
       "       [57],\n",
       "       [57],\n",
       "       [57],\n",
       "       [57],\n",
       "       [57],\n",
       "       [57],\n",
       "       [58],\n",
       "       [58],\n",
       "       [58],\n",
       "       [58],\n",
       "       [58],\n",
       "       [58],\n",
       "       [58],\n",
       "       [59],\n",
       "       [59],\n",
       "       [59],\n",
       "       [59],\n",
       "       [59],\n",
       "       [59],\n",
       "       [59],\n",
       "       [59],\n",
       "       [60],\n",
       "       [60],\n",
       "       [60],\n",
       "       [60],\n",
       "       [60],\n",
       "       [60],\n",
       "       [61],\n",
       "       [61],\n",
       "       [61],\n",
       "       [61],\n",
       "       [61],\n",
       "       [61],\n",
       "       [61],\n",
       "       [61],\n",
       "       [61],\n",
       "       [62],\n",
       "       [62],\n",
       "       [62],\n",
       "       [62],\n",
       "       [62],\n",
       "       [62],\n",
       "       [62],\n",
       "       [63],\n",
       "       [63],\n",
       "       [63],\n",
       "       [63],\n",
       "       [63],\n",
       "       [63],\n",
       "       [63],\n",
       "       [63],\n",
       "       [64],\n",
       "       [64],\n",
       "       [64],\n",
       "       [64],\n",
       "       [64],\n",
       "       [65],\n",
       "       [65],\n",
       "       [65],\n",
       "       [65],\n",
       "       [65],\n",
       "       [65],\n",
       "       [65],\n",
       "       [65],\n",
       "       [65],\n",
       "       [65],\n",
       "       [66],\n",
       "       [66],\n",
       "       [66],\n",
       "       [66],\n",
       "       [66],\n",
       "       [67],\n",
       "       [67],\n",
       "       [67],\n",
       "       [67],\n",
       "       [67],\n",
       "       [67],\n",
       "       [68],\n",
       "       [68],\n",
       "       [69],\n",
       "       [69],\n",
       "       [69],\n",
       "       [69],\n",
       "       [70],\n",
       "       [70],\n",
       "       [70],\n",
       "       [70],\n",
       "       [70],\n",
       "       [70],\n",
       "       [70],\n",
       "       [71],\n",
       "       [72],\n",
       "       [72],\n",
       "       [72],\n",
       "       [72],\n",
       "       [73],\n",
       "       [73],\n",
       "       [74],\n",
       "       [74],\n",
       "       [75],\n",
       "       [76],\n",
       "       [77],\n",
       "       [78],\n",
       "       [83]], dtype=int64)"
      ]
     },
     "execution_count": 104,
     "metadata": {},
     "output_type": "execute_result"
    }
   ],
   "source": [
    "x"
   ]
  },
  {
   "cell_type": "code",
   "execution_count": 105,
   "metadata": {},
   "outputs": [
    {
     "data": {
      "text/plain": [
       "(305, 1)"
      ]
     },
     "execution_count": 105,
     "metadata": {},
     "output_type": "execute_result"
    }
   ],
   "source": [
    "x.shape"
   ]
  },
  {
   "cell_type": "code",
   "execution_count": 106,
   "metadata": {},
   "outputs": [
    {
     "data": {
      "text/plain": [
       "array([1, 1, 1, 1, 1, 1, 2, 2, 1, 1, 1, 1, 1, 1, 1, 1, 1, 1, 1, 1, 1, 1,\n",
       "       1, 2, 1, 1, 1, 1, 1, 1, 1, 1, 1, 2, 1, 1, 1, 1, 1, 1, 1, 1, 2, 2,\n",
       "       2, 1, 1, 1, 1, 1, 1, 1, 2, 2, 1, 1, 1, 1, 1, 1, 1, 2, 2, 2, 2, 1,\n",
       "       1, 1, 1, 1, 1, 1, 2, 2, 2, 1, 1, 1, 1, 2, 2, 2, 1, 1, 1, 1, 1, 1,\n",
       "       2, 2, 2, 2, 1, 1, 1, 2, 2, 2, 1, 1, 1, 1, 1, 1, 1, 1, 2, 2, 2, 1,\n",
       "       1, 1, 1, 2, 2, 1, 1, 1, 1, 1, 1, 1, 1, 2, 2, 1, 1, 1, 1, 1, 1, 1,\n",
       "       1, 1, 1, 2, 2, 1, 1, 1, 1, 2, 2, 2, 2, 1, 1, 1, 1, 1, 1, 1, 1, 1,\n",
       "       1, 2, 2, 2, 2, 2, 2, 1, 1, 1, 1, 1, 2, 2, 2, 2, 1, 1, 1, 1, 1, 1,\n",
       "       1, 1, 1, 2, 2, 1, 1, 1, 1, 1, 1, 1, 1, 2, 2, 1, 1, 1, 1, 1, 2, 2,\n",
       "       2, 1, 1, 1, 1, 1, 1, 1, 1, 1, 1, 1, 1, 1, 1, 1, 2, 1, 1, 1, 1, 1,\n",
       "       1, 1, 2, 2, 1, 1, 1, 1, 2, 2, 2, 1, 1, 1, 1, 1, 1, 2, 2, 2, 1, 1,\n",
       "       1, 1, 2, 1, 1, 1, 1, 1, 1, 1, 1, 1, 1, 1, 1, 2, 2, 2, 2, 1, 1, 1,\n",
       "       1, 1, 1, 2, 2, 1, 1, 1, 2, 2, 1, 1, 1, 1, 1, 1, 2, 1, 1, 1, 2, 2,\n",
       "       1, 1, 1, 1, 1, 1, 2, 1, 1, 1, 1, 1, 2, 1, 1, 1, 1, 2, 2],\n",
       "      dtype=int64)"
      ]
     },
     "execution_count": 106,
     "metadata": {},
     "output_type": "execute_result"
    }
   ],
   "source": [
    "y"
   ]
  },
  {
   "cell_type": "code",
   "execution_count": 107,
   "metadata": {},
   "outputs": [
    {
     "data": {
      "text/plain": [
       "(305,)"
      ]
     },
     "execution_count": 107,
     "metadata": {},
     "output_type": "execute_result"
    }
   ],
   "source": [
    "y.shape"
   ]
  },
  {
   "cell_type": "code",
   "execution_count": 108,
   "metadata": {},
   "outputs": [],
   "source": [
    "from sklearn.model_selection import train_test_split\n",
    "X_train,X_test,y_train,y_test = train_test_split(x,y,test_size=0.20,random_state=0)"
   ]
  },
  {
   "cell_type": "code",
   "execution_count": 109,
   "metadata": {},
   "outputs": [],
   "source": [
    "from sklearn.preprocessing import StandardScaler\n",
    "scaler = StandardScaler()\n",
    "scaler.fit(X_train)\n",
    "\n",
    "x_train = scaler.fit_transform(X_train)\n",
    "x_test  = scaler.fit_transform(X_test)"
   ]
  },
  {
   "cell_type": "code",
   "execution_count": 110,
   "metadata": {},
   "outputs": [
    {
     "data": {
      "text/plain": [
       "KNeighborsClassifier()"
      ]
     },
     "execution_count": 110,
     "metadata": {},
     "output_type": "execute_result"
    }
   ],
   "source": [
    "from sklearn.neighbors import KNeighborsClassifier\n",
    "classifier = KNeighborsClassifier(n_neighbors=5)\n",
    "classifier.fit(x_train,y_train)"
   ]
  },
  {
   "cell_type": "code",
   "execution_count": 111,
   "metadata": {},
   "outputs": [],
   "source": [
    "y_pred = classifier.predict(x_test)"
   ]
  },
  {
   "cell_type": "code",
   "execution_count": 112,
   "metadata": {},
   "outputs": [
    {
     "data": {
      "text/plain": [
       "array([1, 1, 1, 2, 1, 1, 1, 1, 1, 1, 1, 1, 1, 2, 1, 1, 2, 1, 1, 1, 1, 1,\n",
       "       1, 1, 1, 1, 1, 1, 1, 1, 1, 1, 1, 1, 1, 1, 1, 1, 1, 1, 1, 1, 1, 2,\n",
       "       1, 1, 1, 1, 1, 1, 1, 1, 1, 1, 1, 1, 1, 1, 1, 1, 1], dtype=int64)"
      ]
     },
     "execution_count": 112,
     "metadata": {},
     "output_type": "execute_result"
    }
   ],
   "source": [
    "y_pred"
   ]
  },
  {
   "cell_type": "code",
   "execution_count": 113,
   "metadata": {},
   "outputs": [
    {
     "data": {
      "text/plain": [
       "array([1, 2, 1, 2, 1, 1, 1, 1, 1, 1, 1, 1, 1, 1, 2, 2, 2, 2, 2, 1, 2, 1,\n",
       "       1, 1, 1, 2, 1, 1, 1, 2, 2, 2, 1, 1, 1, 1, 2, 1, 1, 1, 1, 2, 2, 2,\n",
       "       1, 1, 1, 1, 2, 2, 1, 1, 2, 2, 1, 1, 2, 1, 1, 1, 1], dtype=int64)"
      ]
     },
     "execution_count": 113,
     "metadata": {},
     "output_type": "execute_result"
    }
   ],
   "source": [
    "y_test"
   ]
  },
  {
   "cell_type": "code",
   "execution_count": 114,
   "metadata": {},
   "outputs": [],
   "source": [
    "from sklearn.metrics import classification_report,confusion_matrix"
   ]
  },
  {
   "cell_type": "code",
   "execution_count": 115,
   "metadata": {},
   "outputs": [
    {
     "name": "stdout",
     "output_type": "stream",
     "text": [
      "              precision    recall  f1-score   support\n",
      "\n",
      "           1       0.97      0.68      0.80        57\n",
      "           2       0.14      0.75      0.24         4\n",
      "\n",
      "    accuracy                           0.69        61\n",
      "   macro avg       0.56      0.72      0.52        61\n",
      "weighted avg       0.92      0.69      0.77        61\n",
      "\n"
     ]
    }
   ],
   "source": [
    "print(classification_report(y_pred,y_test))"
   ]
  },
  {
   "cell_type": "code",
   "execution_count": 116,
   "metadata": {},
   "outputs": [],
   "source": [
    "#calculating error for k values between 1 and 40\n",
    "\n",
    "error = []\n",
    "\n",
    "for i in range(1,40):\n",
    "    knn = KNeighborsClassifier(n_neighbors=i)\n",
    "    knn.fit(x_train,y_train)\n",
    "    pred_i = knn.predict(x_test)\n",
    "    error.append(np.mean(pred_i != y_test))"
   ]
  },
  {
   "cell_type": "code",
   "execution_count": 117,
   "metadata": {},
   "outputs": [
    {
     "data": {
      "text/plain": [
       "[0.4426229508196721,\n",
       " 0.36065573770491804,\n",
       " 0.36065573770491804,\n",
       " 0.3114754098360656,\n",
       " 0.3114754098360656,\n",
       " 0.3442622950819672,\n",
       " 0.32786885245901637,\n",
       " 0.3442622950819672,\n",
       " 0.3442622950819672,\n",
       " 0.3442622950819672,\n",
       " 0.3442622950819672,\n",
       " 0.3442622950819672,\n",
       " 0.3442622950819672,\n",
       " 0.3442622950819672,\n",
       " 0.3442622950819672,\n",
       " 0.3442622950819672,\n",
       " 0.3442622950819672,\n",
       " 0.3442622950819672,\n",
       " 0.3442622950819672,\n",
       " 0.3442622950819672,\n",
       " 0.3442622950819672,\n",
       " 0.3442622950819672,\n",
       " 0.3442622950819672,\n",
       " 0.3442622950819672,\n",
       " 0.3442622950819672,\n",
       " 0.3442622950819672,\n",
       " 0.3442622950819672,\n",
       " 0.3442622950819672,\n",
       " 0.3442622950819672,\n",
       " 0.3442622950819672,\n",
       " 0.3442622950819672,\n",
       " 0.3442622950819672,\n",
       " 0.3442622950819672,\n",
       " 0.3442622950819672,\n",
       " 0.3442622950819672,\n",
       " 0.3442622950819672,\n",
       " 0.3442622950819672,\n",
       " 0.3442622950819672,\n",
       " 0.3442622950819672]"
      ]
     },
     "execution_count": 117,
     "metadata": {},
     "output_type": "execute_result"
    }
   ],
   "source": [
    "error"
   ]
  },
  {
   "cell_type": "code",
   "execution_count": 118,
   "metadata": {},
   "outputs": [
    {
     "data": {
      "text/plain": [
       "Text(0, 0.5, 'MEAN ERROR')"
      ]
     },
     "execution_count": 118,
     "metadata": {},
     "output_type": "execute_result"
    },
    {
     "data": {
      "image/png": "[encoded data removed]",
      "text/plain": [
       "<Figure size 648x720 with 1 Axes>"
      ]
     },
     "metadata": {
      "needs_background": "light"
     },
     "output_type": "display_data"
    }
   ],
   "source": [
    "import matplotlib.pyplot as plt\n",
    "plt.figure(figsize=(9,10))\n",
    "plt.plot(range(1,40),error,marker='o',mfc = 'hotpink',mec = 'black',linestyle = 'dotted')\n",
    "plt.title('ERROR RATE OF K VALUE',c = 'cyan')\n",
    "plt.xlabel('K VALUE',c = 'red')\n",
    "plt.ylabel('MEAN ERROR', c = 'orange')"
   ]
  },
  {
   "cell_type": "code",
   "execution_count": 119,
   "metadata": {},
   "outputs": [
    {
     "name": "stdout",
     "output_type": "stream",
     "text": [
      "              precision    recall  f1-score   support\n",
      "\n",
      "           1       0.66      1.00      0.79        40\n",
      "           2       0.00      0.00      0.00        21\n",
      "\n",
      "    accuracy                           0.66        61\n",
      "   macro avg       0.33      0.50      0.40        61\n",
      "weighted avg       0.43      0.66      0.52        61\n",
      "\n"
     ]
    },
    {
     "name": "stderr",
     "output_type": "stream",
     "text": [
      "C:\\Users\\Hi\\anaconda3\\lib\\site-packages\\sklearn\\metrics\\_classification.py:1245: UndefinedMetricWarning: Precision and F-score are ill-defined and being set to 0.0 in labels with no predicted samples. Use `zero_division` parameter to control this behavior.\n",
      "  _warn_prf(average, modifier, msg_start, len(result))\n",
      "C:\\Users\\Hi\\anaconda3\\lib\\site-packages\\sklearn\\metrics\\_classification.py:1245: UndefinedMetricWarning: Precision and F-score are ill-defined and being set to 0.0 in labels with no predicted samples. Use `zero_division` parameter to control this behavior.\n",
      "  _warn_prf(average, modifier, msg_start, len(result))\n",
      "C:\\Users\\Hi\\anaconda3\\lib\\site-packages\\sklearn\\metrics\\_classification.py:1245: UndefinedMetricWarning: Precision and F-score are ill-defined and being set to 0.0 in labels with no predicted samples. Use `zero_division` parameter to control this behavior.\n",
      "  _warn_prf(average, modifier, msg_start, len(result))\n"
     ]
    }
   ],
   "source": [
    "classifier = KNeighborsClassifier(n_neighbors = 20)\n",
    "classifier.fit(x_train,y_train)\n",
    "y_pred = classifier.predict(x_test)\n",
    "print(classification_report(y_test,y_pred))"
   ]
  },
  {
   "cell_type": "code",
   "execution_count": 120,
   "metadata": {},
   "outputs": [
    {
     "data": {
      "text/plain": [
       "array([[40,  0],\n",
       "       [21,  0]], dtype=int64)"
      ]
     },
     "execution_count": 120,
     "metadata": {},
     "output_type": "execute_result"
    }
   ],
   "source": [
    "confusion_matrix(y_test,y_pred)"
   ]
  },
  {
   "cell_type": "code",
   "execution_count": 134,
   "metadata": {},
   "outputs": [
    {
     "name": "stdout",
     "output_type": "stream",
     "text": [
      "              precision    recall  f1-score   support\n",
      "\n",
      "           1       0.68      0.97      0.80        40\n",
      "           2       0.75      0.14      0.24        21\n",
      "\n",
      "    accuracy                           0.69        61\n",
      "   macro avg       0.72      0.56      0.52        61\n",
      "weighted avg       0.71      0.69      0.61        61\n",
      "\n"
     ]
    }
   ],
   "source": [
    "classifier = KNeighborsClassifier(n_neighbors = 5)\n",
    "classifier.fit(x_train,y_train)\n",
    "y_pred = classifier.predict(x_test)\n",
    "print(classification_report(y_test,y_pred))"
   ]
  },
  {
   "cell_type": "markdown",
   "metadata": {},
   "source": [
    "After Changing neighbors to 5 we can see that there is a bit increase in the accuracy to 69%"
   ]
  },
  {
   "cell_type": "code",
   "execution_count": 122,
   "metadata": {},
   "outputs": [
    {
     "name": "stdout",
     "output_type": "stream",
     "text": [
      "Accuracy of kfold is:  (0.7346236559139785, 0.08857735324778265)\n",
      "Accuracy of LOO is  :  (0.7344262295081967, 0.44163824893069475)\n",
      "Accuracy of suffle_split : (0.7227722772277229, 0.014002114478941547)\n",
      "Accuracy of Random_Stratified is: (0.7344086021505378, 0.009187100801416694)\n"
     ]
    }
   ],
   "source": [
    "from sklearn.linear_model import LogisticRegression\n",
    "from sklearn import model_selection\n",
    "\n",
    "\n",
    "kfold = model_selection.KFold(n_splits=10 ,random_state=7 ,shuffle=True)\n",
    "model = LogisticRegression()\n",
    "results = model_selection.cross_val_score(model,x,y,cv=kfold)\n",
    "print( 'Accuracy of kfold is: ',(results.mean(),results.std()))\n",
    "\n",
    "loo = model_selection.LeaveOneOut()\n",
    "model = LogisticRegression()\n",
    "results_loo = model_selection.cross_val_score(model,x,y,cv=loo)\n",
    "print( 'Accuracy of LOO is  : ',( results_loo.mean(),results_loo.std()))\n",
    "\n",
    "shuffle_split = model_selection.ShuffleSplit(n_splits = 3,random_state=7,test_size=0.33)\n",
    "model = LogisticRegression()\n",
    "results_shuffle = model_selection.cross_val_score(model,x,y,cv=shuffle_split)\n",
    "print( \"Accuracy of suffle_split :\",(results_shuffle.mean(),results_shuffle.std() ))\n",
    "\n",
    "repeat_strat = model_selection.RepeatedStratifiedKFold(n_splits= 10,random_state=7,n_repeats=3)\n",
    "model = LogisticRegression()\n",
    "results_strat = model_selection.cross_val_score(model,x,y,cv=repeat_strat)\n",
    "print(\"Accuracy of Random_Stratified is:\",( results_strat.mean(),results_strat.std() ))"
   ]
  },
  {
   "cell_type": "code",
   "execution_count": 123,
   "metadata": {},
   "outputs": [
    {
     "name": "stdout",
     "output_type": "stream",
     "text": [
      "0.7346236559139785 0.08857735324778265\n"
     ]
    }
   ],
   "source": [
    "#kfold\n",
    "kfold = model_selection.KFold(n_splits=10 ,random_state=7 ,shuffle=True)\n",
    "model = LogisticRegression()\n",
    "results = model_selection.cross_val_score(model,x,y,cv=kfold)\n",
    "print(results.mean(),results.std())"
   ]
  },
  {
   "cell_type": "code",
   "execution_count": 124,
   "metadata": {},
   "outputs": [
    {
     "name": "stdout",
     "output_type": "stream",
     "text": [
      "0.7344262295081967 0.44163824893069475\n"
     ]
    }
   ],
   "source": [
    "#leave one out\n",
    "loo = model_selection.LeaveOneOut()\n",
    "model = LogisticRegression()\n",
    "results_loo = model_selection.cross_val_score(model,x,y,cv=loo)\n",
    "print( results_loo.mean(),results_loo.std() )"
   ]
  },
  {
   "cell_type": "code",
   "execution_count": 125,
   "metadata": {},
   "outputs": [
    {
     "name": "stdout",
     "output_type": "stream",
     "text": [
      "0.7227722772277229 0.014002114478941547\n"
     ]
    }
   ],
   "source": [
    "#shuffle split\n",
    "shuffle_split = model_selection.ShuffleSplit(n_splits = 3,random_state=7,test_size=0.33)\n",
    "model = LogisticRegression()\n",
    "results_shuffle = model_selection.cross_val_score(model,x,y,cv=shuffle_split)\n",
    "print( results_shuffle.mean(),results_shuffle.std() )"
   ]
  },
  {
   "cell_type": "code",
   "execution_count": 126,
   "metadata": {},
   "outputs": [
    {
     "name": "stdout",
     "output_type": "stream",
     "text": [
      "Accuracy (0.7344086021505378, 0.009187100801416694)\n"
     ]
    }
   ],
   "source": [
    "#RepeatedStratified\n",
    "repeat_strat = model_selection.RepeatedStratifiedKFold(n_splits= 10,random_state=7,n_repeats=3)\n",
    "model = LogisticRegression()\n",
    "results_strat = model_selection.cross_val_score(model,x,y,cv=repeat_strat)\n",
    "print(\"Accuracy\",(results_strat.mean() ,results_strat.std()))"
   ]
  }
 ],
 "metadata": {
  "kernelspec": {
   "display_name": "Python 3",
   "language": "python",
   "name": "python3"
  },
  "language_info": {
   "codemirror_mode": {
    "name": "ipython",
    "version": 3
   },
   "file_extension": ".py",
   "mimetype": "text/x-python",
   "name": "python",
   "nbconvert_exporter": "python",
   "pygments_lexer": "ipython3",
   "version": "3.8.3"
  }
 },
 "nbformat": 4,
 "nbformat_minor": 4
}
